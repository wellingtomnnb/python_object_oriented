{
  "nbformat": 4,
  "nbformat_minor": 0,
  "metadata": {
    "colab": {
      "name": "ObjectOrientation.ipynb",
      "provenance": [],
      "collapsed_sections": []
    },
    "kernelspec": {
      "name": "python3",
      "display_name": "Python 3"
    },
    "language_info": {
      "name": "python"
    }
  },
  "cells": [
    {
      "cell_type": "markdown",
      "source": [
        "### CONCEITOS DE POO\n",
        "Programação orientada a objetos "
      ],
      "metadata": {
        "id": "nTXLW8sKeFjI"
      }
    },
    {
      "cell_type": "markdown",
      "source": [
        "#### Características Python"
      ],
      "metadata": {
        "id": "7pbRlHWBeMzG"
      }
    },
    {
      "cell_type": "markdown",
      "source": [
        "<li> Paradigma Imperativo / Procedural:\n",
        "<ul><li> As instruções devem ser passadas ao computador na sequência em que devem ser executadas </ul>\n",
        "<li> Paradigma Funcional:\n",
        "<ul><li>Parte-se do princípio de que tudo são funções. Não existe uma lista de instruções ou objetos para o computador realizar, mas uma sequência de funções matemáticas que, juntas, vão resolver um problema. </ul>\n",
        "    \n",
        "<li> Paradigma Orientado a Objeto:\n",
        "<ul><li>modelo de análise, projeto e programação baseado na aproximação entre o mundo real e o mundo virtual, através da criação e interação entre objetos, atributos, códigos, métodos, entre outros. <ul>"
      ],
      "metadata": {
        "id": "AZ-OBXX7eQcV"
      }
    },
    {
      "cell_type": "markdown",
      "source": [
        "#### Pilares de POO"
      ],
      "metadata": {
        "id": "ezv6cZ4deSAk"
      }
    },
    {
      "cell_type": "markdown",
      "source": [
        "<li> <b>Abstração</b>\n",
        "<p>Representação abstrata de um objeto real, que deve ser levado em conta a <b>identidade</b>, <b>propriedades</b> e os <b>métodos</b> desse objeto.\n",
        "<ul><li>Coesão\n",
        "<p> Para a abstração de um objeto a classe deve possuir atributos e métodos que correspondam exclusivamente as suas atribuições, tornando-a coesa.\n",
        "    <p> Um exemplo de um objeto não coeso é um objeto do tipo <b>Pessoa</b> que tem um parâmetro chamado <b>`cor_roupa`</b>."
      ],
      "metadata": {
        "id": "cpx8hzRreURw"
      }
    },
    {
      "cell_type": "markdown",
      "source": [
        "<li> <b>Encapsulamento</b>\n",
        "<p> Elementos que adicionam <b>segurança</b> à aplicação em uma programação orientada a objetos pelo fato de <b>esconder as propriedades</b>, criando uma espécie de caixa preta.\n",
        "<ul><li>Modificadores de Acesso\n",
        "    <p>Determinam a <b>acessibilidade</b> e o <b>escopo</b> de vários elementos do nosso código, tais como: propriedades, métodos, construtores e classes.\n",
        "<table border=\"1\">\n",
        "<tr>\n",
        "  <th>Recupera dados:</th>\n",
        "  <td>GET</td>\n",
        "</tr>\n",
        "<tr>\n",
        "  <th>Palavra Reservada:</th>\n",
        "  <td>@property</td>\n",
        "</tr>\n",
        "<tr>\n",
        "  <th>Altera dados:</th>\n",
        "  <td>SET</td>\n",
        "</tr>\n",
        "<tr>\n",
        "  <th>Palavra Reservada:</th>\n",
        "  <td>@{nome_função}.setter</td>\n",
        "</tr>\n",
        "\n",
        "</table>"
      ],
      "metadata": {
        "id": "FaF1OjKteVvQ"
      }
    },
    {
      "cell_type": "markdown",
      "source": [
        "<li><b>Herança</b>\n",
        "<p>O objeto abaixo na hierarquia irá herdar características de todos os objetos acima dele, seus “ancestrais”."
      ],
      "metadata": {
        "id": "-fcHCl4HeYTT"
      }
    },
    {
      "cell_type": "markdown",
      "source": [
        "<li><b>Polimorfismo</b>\n",
        "<p> Alteração do funcionamento interno de um método herdado de um objeto pai.(Sobrecarga e Sobrescrita)"
      ],
      "metadata": {
        "id": "x49mA76ceaeD"
      }
    },
    {
      "cell_type": "markdown",
      "source": [
        "#### POO com Python"
      ],
      "metadata": {
        "id": "IRiXJnHOedob"
      }
    },
    {
      "cell_type": "markdown",
      "source": [
        "#####Classe Genérica (Abstrata)"
      ],
      "metadata": {
        "id": "0aALy1k6fQ1Z"
      }
    },
    {
      "cell_type": "code",
      "source": [
        "from abc import ABC, abstractmethod\n",
        "# Criação de um Objeto Modelo\n",
        "class Conta(ABC): \n",
        "    \n",
        "  # Construtor do Objeto, que inicializa os atributos do objeto\n",
        "  #`self`: Variável interna que registra o endereço do objeto em memória\n",
        "  @abstractmethod\n",
        "  def  __init__(self, num: int, nome: str, saldo: float = 0): \n",
        "      #`Undescore Duplo` (__) deixa a propriedade privada\n",
        "      print(f\"(Conta: {nome}): Construindo Objeto...\")\n",
        "      self.__numero = num\n",
        "      self.__nome = nome\n",
        "      self.__saldo = float(saldo)\n",
        "      print(f\"(Conta: {nome}): Objeto Construído.\")\n",
        "      \n",
        "  #Encapsulamento\n",
        "  def extrato(self): print(f'(Conta: {self.__nome}): Saldo: R${self.__saldo}')\n",
        "  def deposito(self, valor): self.__saldo += valor\n",
        "  def saque(self, valor): self.__saldo -= valor  \n",
        "    \n",
        "  #Abstração\n",
        "  #Um método abstrato força a implementação do mesmo nas classes herdeiras\n",
        "  @abstractmethod\n",
        "  def transferencia(self, valor, destino): \n",
        "      self.saque(valor)\n",
        "      destino.deposito(valor)\n",
        "      print(self.__msg_transferencia(valor, destino))\n",
        "    \n",
        "  #Tipagem de Dados\n",
        "  #Embora o Python trabalhe com a tipagem dinâmica, é possível informar\n",
        "  #o tipo da variavel ou do retorno da função, para facilitar a compreensão\n",
        "  def __msg_transferencia(self, valor:float, conta_dest, sucesso: bool = True) -> str:\n",
        "      if sucesso: return (f'(Conta: {self.__nome}): \\n._____________________________\\n'+\n",
        "          '|\\n| * Transferência Concluída! *\\n|\\n'+\n",
        "          f'| origem: {self.__nome}  | conta: {self.__numero}\\n'+\n",
        "          f'| destino: {conta_dest._Conta__nome} | conta: {conta_dest._Conta__numero}\\n'+\n",
        "          f'| valor: R${float(valor)}'+\n",
        "          '\\n|,,,,,,,,,,,,,,,,,,,,,,,,,,,,,\\n')\n",
        "          \n",
        "      else: return (f'(Conta: {self.__nome}):\\n._____________________________\\n'+\n",
        "          '|\\n| * Falha na Transferência! *\\n|\\n'+\n",
        "          f'| origem: {self.__nome}  | conta: {self.__numero}\\n'+\n",
        "          f'| destino: {conta_dest._Conta__nome} | conta: {conta_dest._Conta__numero}\\n'+\n",
        "          f'| valor: R${float(valor)}'+\n",
        "          '\\n|,,,,,,,,,,,,,,,,,,,,,,,,,,,,,\\n')  \n",
        "      \n",
        "  #Interfaces\n",
        "  #São contratos que forçam a implementação do mesmo nas classes herdeiras, uma vez que a função é chamada\n",
        "  #Interfaces se não forem chamadas não dá erro, já os métodos abstratos sim\n",
        "  def anuidade(self):\n",
        "    raise NotImplementedError('O método `anuidade` precisa ser implementado na classe filho')\n",
        "      \n",
        "  #Modificadores de Acesso\n",
        "  #`@property` indica que a função é uma propriedade do objeto, e não precisa de '()'\n",
        "  @property\n",
        "  def numero(self): return self.__numero\n",
        "  @property\n",
        "  def saldo(self): return self.__saldo\n",
        "  @property\n",
        "  def nome(self): return self.__nome\n",
        "  #`@nome.setter` indica que a função é uma propriedade do objeto que altera o valor da variavel\n",
        "  @nome.setter\n",
        "  def nome(self, novo_nome): self.__nome = novo_nome"
      ],
      "metadata": {
        "id": "iZSQLI8lfYUJ"
      },
      "execution_count": null,
      "outputs": []
    },
    {
      "cell_type": "markdown",
      "source": [
        ""
      ],
      "metadata": {
        "id": "UqSYt98ttNMd"
      }
    },
    {
      "cell_type": "markdown",
      "source": [
        "#####Classe Especializada (Herdeira)"
      ],
      "metadata": {
        "id": "-l-lF1nefooN"
      }
    },
    {
      "cell_type": "code",
      "source": [
        "#Herança\n",
        "class ContaCorrente(Conta):\n",
        "    \n",
        "  #Polimorfismo\n",
        "  # Overloading abstract method (Sobrecarga)\n",
        "  def  __init__(self, num, nome, saldo = 0, taxa_porcent = 0.1):\n",
        "      super().__init__(num, nome, saldo)\n",
        "      self.__taxa = taxa_porcent\n",
        "      \n",
        "  \n",
        "  #Overriding abstract method (Sobrescrita)\n",
        "  def transferencia(self, valor, destino):\n",
        "      taxa_valor =  valor * (self.__taxa/100)\n",
        "      self.saque(valor + taxa_valor)\n",
        "      destino.deposito(valor)\n",
        "      print(self.__msg_transferencia(valor, destino, taxa_valor))\n",
        "  \n",
        "  def __msg_transferencia(self, valor, conta_dest: Conta, taxa_valor, sucesso = True):\n",
        "      if sucesso: return (f'(Conta: {self.nome}): \\n._____________________________\\n'+\n",
        "          '|\\n| * Transferência Concluída! *\\n|\\n'+\n",
        "          f'| origem: {self.nome}    | conta: {self.numero}\\n'+\n",
        "          f'| destino: {conta_dest.nome}   | conta: {conta_dest.numero}\\n'+\n",
        "          f'| valor: R${float(valor)}  | taxa: R${float(taxa_valor)}\\n'+\n",
        "          f'| total: R${float(valor+taxa_valor)}'+\n",
        "          '\\n|,,,,,,,,,,,,,,,,,,,,,,,,,,,,,\\n')\n",
        "          \n",
        "      else: return (f'(Conta: {self.nome}):\\n._____________________________\\n'+\n",
        "          '|\\n| * Falha na Transferência! *\\n|\\n'+\n",
        "          f'| origem: {self.nome}    | conta: {self.numero}\\n'+\n",
        "          f'| destino: {conta_dest.nome}   | conta: {conta_dest.numero}\\n'+\n",
        "          f'| valor: R${float(valor)}  | taxa: R${float(taxa_valor)}\\n'+\n",
        "          f'| total: R${float(valor+taxa_valor)}'+\n",
        "          '\\n|,,,,,,,,,,,,,,,,,,,,,,,,,,,,,\\n') "
      ],
      "metadata": {
        "id": "G2snCz-Seixd"
      },
      "execution_count": null,
      "outputs": []
    },
    {
      "cell_type": "markdown",
      "source": [
        "#####Manipulação do Objeto"
      ],
      "metadata": {
        "id": "H-nK2ts6f5Hj"
      }
    },
    {
      "cell_type": "code",
      "source": [
        "# Instanciação do objeto\n",
        "conta_well = ContaCorrente(100, 'Well',100, taxa_porcent = 1)\n",
        "conta_x = ContaCorrente(101, 'Xiss',100)\n",
        "\n",
        "# #Acessando métodos do objeto\n",
        "conta_well.extrato(), conta_well.deposito(50), conta_well.extrato(), \n",
        "conta_well.saque(50), conta_well.extrato()\n",
        "conta_well.transferencia(valor = 100, destino = conta_x)\n",
        "conta_well.extrato(), conta_x.extrato()\n",
        "\n",
        "# #Acessando atributos pelos métodos de acesso do objeto\n",
        "conta_x.nome"
      ],
      "metadata": {
        "id": "C9ZSs45hf8-v"
      },
      "execution_count": null,
      "outputs": []
    }
  ]
}